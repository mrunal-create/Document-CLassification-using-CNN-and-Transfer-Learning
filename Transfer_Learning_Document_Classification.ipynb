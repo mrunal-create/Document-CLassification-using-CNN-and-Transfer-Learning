{
  "cells": [
    {
      "cell_type": "code",
      "execution_count": null,
      "metadata": {
        "colab": {
          "base_uri": "https://localhost:8080/"
        },
        "id": "KFtwTqKh8zy-",
        "outputId": "7e42b2da-0d16-44e6-b113-3c7425a0ec41"
      },
      "outputs": [
        {
          "output_type": "stream",
          "name": "stdout",
          "text": [
            "Looking in indexes: https://pypi.org/simple, https://us-python.pkg.dev/colab-wheels/public/simple/\n",
            "Collecting opendatasets\n",
            "  Downloading opendatasets-0.1.22-py3-none-any.whl (15 kB)\n",
            "Requirement already satisfied: kaggle in /usr/local/lib/python3.8/dist-packages (from opendatasets) (1.5.12)\n",
            "Requirement already satisfied: tqdm in /usr/local/lib/python3.8/dist-packages (from opendatasets) (4.64.1)\n",
            "Requirement already satisfied: click in /usr/local/lib/python3.8/dist-packages (from opendatasets) (7.1.2)\n",
            "Requirement already satisfied: certifi in /usr/local/lib/python3.8/dist-packages (from kaggle->opendatasets) (2022.9.24)\n",
            "Requirement already satisfied: requests in /usr/local/lib/python3.8/dist-packages (from kaggle->opendatasets) (2.23.0)\n",
            "Requirement already satisfied: six>=1.10 in /usr/local/lib/python3.8/dist-packages (from kaggle->opendatasets) (1.15.0)\n",
            "Requirement already satisfied: urllib3 in /usr/local/lib/python3.8/dist-packages (from kaggle->opendatasets) (1.24.3)\n",
            "Requirement already satisfied: python-dateutil in /usr/local/lib/python3.8/dist-packages (from kaggle->opendatasets) (2.8.2)\n",
            "Requirement already satisfied: python-slugify in /usr/local/lib/python3.8/dist-packages (from kaggle->opendatasets) (7.0.0)\n",
            "Requirement already satisfied: text-unidecode>=1.3 in /usr/local/lib/python3.8/dist-packages (from python-slugify->kaggle->opendatasets) (1.3)\n",
            "Requirement already satisfied: chardet<4,>=3.0.2 in /usr/local/lib/python3.8/dist-packages (from requests->kaggle->opendatasets) (3.0.4)\n",
            "Requirement already satisfied: idna<3,>=2.5 in /usr/local/lib/python3.8/dist-packages (from requests->kaggle->opendatasets) (2.10)\n",
            "Installing collected packages: opendatasets\n",
            "Successfully installed opendatasets-0.1.22\n",
            "Please provide your Kaggle credentials to download this dataset. Learn more: http://bit.ly/kaggle-creds\n",
            "Your Kaggle username: mrunal623\n",
            "Your Kaggle Key: ··········\n",
            "Downloading rvl-cdip.zip to ./rvl-cdip\n"
          ]
        },
        {
          "output_type": "stream",
          "name": "stderr",
          "text": [
            "100%|██████████| 11.7G/11.7G [09:51<00:00, 21.3MB/s]\n"
          ]
        },
        {
          "output_type": "stream",
          "name": "stdout",
          "text": [
            "\n"
          ]
        }
      ],
      "source": [
        "# -*- coding: utf-8 -*-\n",
        "#DOWNLOAD THE DATASET\n",
        "\n",
        "from keras.preprocessing.image import ImageDataGenerator\n",
        "\n",
        "!pip install opendatasets\n",
        "\n",
        "import opendatasets as op\n",
        "\n",
        "op.download(\"https://www.kaggle.com/datasets/muhammadumer2002/rvl-cdip\")\n",
        "\n",
        "\n"
      ]
    },
    {
      "cell_type": "code",
      "source": [],
      "metadata": {
        "id": "5O7J0RNZIoke"
      },
      "execution_count": null,
      "outputs": []
    },
    {
      "cell_type": "code",
      "execution_count": null,
      "metadata": {
        "id": "NyGytNepo4YU"
      },
      "outputs": [],
      "source": [
        "accuraciest=[]"
      ]
    },
    {
      "cell_type": "code",
      "execution_count": null,
      "metadata": {
        "id": "d63kYcS9qnXF"
      },
      "outputs": [],
      "source": [
        "accuracy=[]\n",
        "recalls=[]\n",
        "precision=[]"
      ]
    },
    {
      "cell_type": "code",
      "execution_count": null,
      "metadata": {
        "id": "zIkU02K8oxGd"
      },
      "outputs": [],
      "source": [
        "models=['VGG19','InceptionV3','VGG16']\n"
      ]
    },
    {
      "cell_type": "code",
      "execution_count": null,
      "metadata": {
        "id": "L6jc-BjRozwN"
      },
      "outputs": [],
      "source": [
        "##DOWNLOAD THE DATASET"
      ]
    },
    {
      "cell_type": "code",
      "execution_count": null,
      "metadata": {
        "colab": {
          "base_uri": "https://localhost:8080/"
        },
        "id": "ijKSzn-voFKA",
        "outputId": "77875580-3b4a-46a1-87de-2e82adf4e406"
      },
      "outputs": [
        {
          "output_type": "stream",
          "name": "stdout",
          "text": [
            "Please provide your Kaggle credentials to download this dataset. Learn more: http://bit.ly/kaggle-creds\n",
            "Your Kaggle username: mrunal623\n",
            "Your Kaggle Key: ··········\n",
            "Downloading the-rvlcdip-dataset-test.zip to ./the-rvlcdip-dataset-test\n"
          ]
        },
        {
          "output_type": "stream",
          "name": "stderr",
          "text": [
            "100%|██████████| 3.62G/3.62G [02:48<00:00, 23.0MB/s]\n"
          ]
        },
        {
          "output_type": "stream",
          "name": "stdout",
          "text": [
            "\n"
          ]
        }
      ],
      "source": [
        "op.download(\"https://www.kaggle.com/datasets/pdavpoojan/the-rvlcdip-dataset-test\")\n",
        "\n",
        "\n",
        "\n"
      ]
    },
    {
      "cell_type": "code",
      "execution_count": null,
      "metadata": {
        "colab": {
          "base_uri": "https://localhost:8080/"
        },
        "id": "RhJD3CYnCAi2",
        "outputId": "81d7ce18-91d6-4c18-cd4a-9957b2611cd7"
      },
      "outputs": [
        {
          "name": "stdout",
          "output_type": "stream",
          "text": [
            "Please provide your Kaggle credentials to download this dataset. Learn more: http://bit.ly/kaggle-creds\n",
            "Your Kaggle username: mrunal623\n",
            "Your Kaggle Key: ··········\n",
            "Downloading rvl-cdip.zip to ./rvl-cdip\n"
          ]
        },
        {
          "name": "stderr",
          "output_type": "stream",
          "text": [
            "100%|██████████| 11.7G/11.7G [08:42<00:00, 24.2MB/s]\n"
          ]
        },
        {
          "name": "stdout",
          "output_type": "stream",
          "text": [
            "\n"
          ]
        }
      ],
      "source": [
        "#op.download(\"https://www.kaggle.com/datasets/muhammadumer2002/rvl-cdip\")"
      ]
    },
    {
      "cell_type": "code",
      "execution_count": null,
      "metadata": {
        "id": "yu7cgNL2sZ3n"
      },
      "outputs": [],
      "source": [
        "from keras.preprocessing.image import ImageDataGenerator\n",
        "\n",
        "#!pip install opendatasets\n",
        "datasetFolder = \"rvl-cdip/train/\"\n",
        "\n",
        "datasetFolder1 = \"rvl-cdip/val/\"\n",
        "\n",
        "datasetFolder2=\"the-rvlcdip-dataset-test/test/\"\n",
        "import opendatasets as op\n",
        "\n",
        "\n",
        "\n",
        "import pathlib\n",
        "import os\n",
        "train = pathlib.Path(os.path.join(datasetFolder))\n",
        "test=pathlib.Path(os.path.join(datasetFolder2))\n",
        "val=pathlib.Path(os.path.join(datasetFolder1))\n",
        "\n",
        "#print(train)\n",
        "\n",
        "import pandas as pd\n",
        "import numpy as np\n",
        "import tensorflow as tf\n",
        "import string\n",
        "import nltk\n",
        "import pathlib\n",
        "import os\n",
        "import cv2\n",
        "import matplotlib.pyplot as plt\n",
        "from tensorflow.keras.utils import to_categorical\n",
        "from tensorflow.keras.metrics import TruePositives, FalsePositives, TrueNegatives, FalseNegatives, BinaryAccuracy, Precision, Recall, AUC\n",
        "\n",
        "\n",
        "\n",
        "\n",
        "\n",
        "\n",
        "from keras.preprocessing.image import ImageDataGenerator\n",
        "train_datagen = ImageDataGenerator(\n",
        "rescale = 1./255)\n",
        "test_datagen = ImageDataGenerator(\n",
        "rescale = 1./255)\n",
        "cv_datagen = ImageDataGenerator(\n",
        "rescale = 1./255)\n",
        "\n",
        "\n",
        "\n",
        "\n",
        "\n",
        "\n",
        "from keras.optimizers import Adam"
      ]
    },
    {
      "cell_type": "code",
      "execution_count": null,
      "metadata": {
        "colab": {
          "base_uri": "https://localhost:8080/"
        },
        "id": "7uyxNIEYjrbR",
        "outputId": "abdb09fc-6e2d-46e6-8713-f5742b6342f4"
      },
      "outputs": [
        {
          "output_type": "stream",
          "name": "stdout",
          "text": [
            "Found 5001 images belonging to 16 classes.\n",
            "Found 124977 images belonging to 16 classes.\n"
          ]
        }
      ],
      "source": [
        "from keras.preprocessing.image import ImageDataGenerator\n",
        "train_datagen = ImageDataGenerator(\n",
        "rescale = 1./255)\n",
        "test_datagen = ImageDataGenerator()\n",
        "cv_datagen = ImageDataGenerator()\n",
        "\n",
        "test_it = test_datagen.flow_from_directory('rvl-cdip/val/',batch_size=32,target_size=(256, 256))\n",
        "train_t = train_datagen.flow_from_directory('rvl-cdip/train/',batch_size=32,target_size=(256, 256),class_mode='categorical')\n"
      ]
    },
    {
      "cell_type": "code",
      "execution_count": null,
      "metadata": {
        "id": "k7iswYgW6bZC"
      },
      "outputs": [],
      "source": [
        "def get_images_labels(images, label):\n",
        "  arr = []\n",
        "  labels = []\n",
        "  for i in images:\n",
        "    img = cv2.imread(os.path.join(i))\n",
        "    img = cv2.resize(img, (256, 256))\n",
        "    arr.append(img)\n",
        "    labels.append(label)\n",
        "  return [arr, labels]"
      ]
    },
    {
      "cell_type": "code",
      "execution_count": null,
      "metadata": {
        "id": "nRSZXUrl6l3r"
      },
      "outputs": [],
      "source": [
        "#Training Data\n",
        "[form, Y_form] = get_images_labels(list(train.glob(\"form/*.*\")), 0)\n",
        "[invoice, Y_invoice] = get_images_labels(list(train.glob(\"invoice/*.*\")), 1)\n",
        "[letter, Y_letter] = get_images_labels(list(train.glob(\"letter/*.*\")), 2)\n",
        "[resume, Y_resume] = get_images_labels(list(train.glob(\"resume/*.*\")), 3)"
      ]
    },
    {
      "cell_type": "code",
      "execution_count": null,
      "metadata": {
        "id": "LjTwogSel5Wh"
      },
      "outputs": [],
      "source": []
    },
    {
      "cell_type": "code",
      "execution_count": null,
      "metadata": {
        "id": "6ozhrX3QxuC7"
      },
      "outputs": [],
      "source": [
        "train_images = form + invoice + letter + resume\n",
        "train_labels =  Y_form +Y_invoice+ Y_letter +Y_resume "
      ]
    },
    {
      "cell_type": "code",
      "execution_count": null,
      "metadata": {
        "id": "lkWpVdolxutM"
      },
      "outputs": [],
      "source": [
        "train_images = np.asarray(train_images)\n",
        "train_labels = np.asarray(train_labels)"
      ]
    },
    {
      "cell_type": "code",
      "execution_count": null,
      "metadata": {
        "id": "4IcC1C2Xx0mT"
      },
      "outputs": [],
      "source": [
        "train_labels = to_categorical(train_labels)"
      ]
    },
    {
      "cell_type": "code",
      "execution_count": null,
      "metadata": {
        "id": "JmQSF3IxRYGM"
      },
      "outputs": [],
      "source": []
    },
    {
      "cell_type": "code",
      "execution_count": null,
      "metadata": {
        "id": "LgWuZjd3AVa0"
      },
      "outputs": [],
      "source": [
        "#Testing data\n",
        "[form, Y_form] = get_images_labels(list(val.glob(\"form/*.*\")), 0)\n",
        "[invoice, Y_invoice] = get_images_labels(list(val.glob(\"invoice/*.*\")), 1)\n",
        "[letter, Y_letter] = get_images_labels(list(val.glob(\"letter/*.*\")), 2)\n",
        "[resume, Y_resume] = get_images_labels(list(val.glob(\"resume/*.*\")), 3)"
      ]
    },
    {
      "cell_type": "code",
      "execution_count": null,
      "metadata": {
        "id": "_S0UEJDLAzfM"
      },
      "outputs": [],
      "source": [
        "test_images = form + invoice + letter +resume\n",
        "test_labels =  Y_form +Y_invoice+ Y_letter +Y_resume "
      ]
    },
    {
      "cell_type": "code",
      "execution_count": null,
      "metadata": {
        "id": "HTxm-qVpA7GF"
      },
      "outputs": [],
      "source": [
        "test_images = np.asarray(test_images)\n",
        "test_labels = np.asarray(test_labels)"
      ]
    },
    {
      "cell_type": "code",
      "execution_count": null,
      "metadata": {
        "colab": {
          "base_uri": "https://localhost:8080/"
        },
        "id": "JF8FEkPFbpMZ",
        "outputId": "6480ffd2-5c33-4421-ed2e-c36bbc7b785f"
      },
      "outputs": [
        {
          "output_type": "execute_result",
          "data": {
            "text/plain": [
              "(1270, 256, 256, 3)"
            ]
          },
          "metadata": {},
          "execution_count": 15
        }
      ],
      "source": [
        "test_images.shape"
      ]
    },
    {
      "cell_type": "code",
      "execution_count": null,
      "metadata": {
        "id": "S8EUiIL0BDHv"
      },
      "outputs": [],
      "source": [
        "test_labels = to_categorical(test_labels)"
      ]
    },
    {
      "cell_type": "code",
      "execution_count": null,
      "metadata": {
        "id": "e5FhNtyl77vl"
      },
      "outputs": [],
      "source": []
    },
    {
      "cell_type": "code",
      "execution_count": null,
      "metadata": {
        "colab": {
          "base_uri": "https://localhost:8080/"
        },
        "id": "rQwX4nzacL4z",
        "outputId": "6f6ce08c-6cf9-4104-9926-6ed4c083b6e8"
      },
      "outputs": [
        {
          "data": {
            "text/plain": [
              "(256, 256, 3)"
            ]
          },
          "execution_count": 17,
          "metadata": {},
          "output_type": "execute_result"
        }
      ],
      "source": [
        "train_images[0].shape"
      ]
    },
    {
      "cell_type": "code",
      "execution_count": null,
      "metadata": {
        "id": "ZnCtcbzU8BTy"
      },
      "outputs": [],
      "source": []
    },
    {
      "cell_type": "code",
      "execution_count": null,
      "metadata": {
        "id": "Pclc1hrp8jCs"
      },
      "outputs": [],
      "source": [
        "#Validation Data\n",
        "[form, Y_form] = get_images_labels(list(test.glob(\"form/*.*\")), 0)\n",
        "[invoice, Y_invoice] = get_images_labels(list(test.glob(\"invoice/*.*\")), 1)\n",
        "[letter, Y_letter] = get_images_labels(list(test.glob(\"letter/*.*\")), 2)\n",
        "[resume, Y_resume] = get_images_labels(list(test.glob(\"resume/*.*\")), 3)"
      ]
    },
    {
      "cell_type": "code",
      "execution_count": null,
      "metadata": {
        "id": "BlesbZbb8pgH"
      },
      "outputs": [],
      "source": [
        "val_images = form + invoice + letter +resume\n",
        "val_labels =  Y_form +Y_invoice+ Y_letter +Y_resume "
      ]
    },
    {
      "cell_type": "code",
      "execution_count": null,
      "metadata": {
        "id": "O9Yx2gHp8swD"
      },
      "outputs": [],
      "source": [
        "val_images = np.asarray(val_images)\n",
        "val_labels = np.asarray(val_labels)\n",
        "val_labels = to_categorical(val_labels)"
      ]
    },
    {
      "cell_type": "code",
      "execution_count": null,
      "metadata": {
        "id": "uJC8tn_BrYUn"
      },
      "outputs": [],
      "source": [
        "#FINE TUNING THE PRE TRAINED MODELS"
      ]
    },
    {
      "cell_type": "code",
      "execution_count": null,
      "metadata": {
        "id": "cQVpsmAvmRAY",
        "colab": {
          "base_uri": "https://localhost:8080/"
        },
        "outputId": "476163a3-390c-4def-8a2c-840ee658c58c"
      },
      "outputs": [
        {
          "output_type": "stream",
          "name": "stdout",
          "text": [
            "Downloading data from https://storage.googleapis.com/tensorflow/keras-applications/vgg19/vgg19_weights_tf_dim_ordering_tf_kernels_notop.h5\n",
            "80134624/80134624 [==============================] - 4s 0us/step\n",
            "Model: \"model_4\"\n",
            "_________________________________________________________________\n",
            " Layer (type)                Output Shape              Param #   \n",
            "=================================================================\n",
            " input_5 (InputLayer)        [(None, 256, 256, 3)]     0         \n",
            "                                                                 \n",
            " block1_conv1 (Conv2D)       (None, 256, 256, 64)      1792      \n",
            "                                                                 \n",
            " block1_conv2 (Conv2D)       (None, 256, 256, 64)      36928     \n",
            "                                                                 \n",
            " block1_pool (MaxPooling2D)  (None, 128, 128, 64)      0         \n",
            "                                                                 \n",
            " block2_conv1 (Conv2D)       (None, 128, 128, 128)     73856     \n",
            "                                                                 \n",
            " block2_conv2 (Conv2D)       (None, 128, 128, 128)     147584    \n",
            "                                                                 \n",
            " block2_pool (MaxPooling2D)  (None, 64, 64, 128)       0         \n",
            "                                                                 \n",
            " block3_conv1 (Conv2D)       (None, 64, 64, 256)       295168    \n",
            "                                                                 \n",
            " block3_conv2 (Conv2D)       (None, 64, 64, 256)       590080    \n",
            "                                                                 \n",
            " block3_conv3 (Conv2D)       (None, 64, 64, 256)       590080    \n",
            "                                                                 \n",
            " block3_conv4 (Conv2D)       (None, 64, 64, 256)       590080    \n",
            "                                                                 \n",
            " block3_pool (MaxPooling2D)  (None, 32, 32, 256)       0         \n",
            "                                                                 \n",
            " block4_conv1 (Conv2D)       (None, 32, 32, 512)       1180160   \n",
            "                                                                 \n",
            " block4_conv2 (Conv2D)       (None, 32, 32, 512)       2359808   \n",
            "                                                                 \n",
            " block4_conv3 (Conv2D)       (None, 32, 32, 512)       2359808   \n",
            "                                                                 \n",
            " block4_conv4 (Conv2D)       (None, 32, 32, 512)       2359808   \n",
            "                                                                 \n",
            " block4_pool (MaxPooling2D)  (None, 16, 16, 512)       0         \n",
            "                                                                 \n",
            " block5_conv1 (Conv2D)       (None, 16, 16, 512)       2359808   \n",
            "                                                                 \n",
            " block5_conv2 (Conv2D)       (None, 16, 16, 512)       2359808   \n",
            "                                                                 \n",
            " block5_conv3 (Conv2D)       (None, 16, 16, 512)       2359808   \n",
            "                                                                 \n",
            " block5_conv4 (Conv2D)       (None, 16, 16, 512)       2359808   \n",
            "                                                                 \n",
            " block5_pool (MaxPooling2D)  (None, 8, 8, 512)         0         \n",
            "                                                                 \n",
            " flatten_4 (Flatten)         (None, 32768)             0         \n",
            "                                                                 \n",
            " dense_15 (Dense)            (None, 256)               8388864   \n",
            "                                                                 \n",
            " dropout_7 (Dropout)         (None, 256)               0         \n",
            "                                                                 \n",
            " dense_16 (Dense)            (None, 128)               32896     \n",
            "                                                                 \n",
            " dense_17 (Dense)            (None, 4)                 516       \n",
            "                                                                 \n",
            "=================================================================\n",
            "Total params: 28,446,660\n",
            "Trainable params: 28,446,660\n",
            "Non-trainable params: 0\n",
            "_________________________________________________________________\n",
            "Epoch 1/6\n",
            "975/974 [==============================] - ETA: 0s - loss: 0.7269 - accuracy: 0.7072"
          ]
        },
        {
          "output_type": "stream",
          "name": "stderr",
          "text": [
            "WARNING:tensorflow:Can save best model only with acc available, skipping.\n"
          ]
        },
        {
          "output_type": "stream",
          "name": "stdout",
          "text": [
            "\b\b\b\b\b\b\b\b\b\b\b\b\b\b\b\b\b\b\b\b\b\b\b\b\b\b\b\b\b\b\b\b\b\b\b\b\b\b\b\b\b\b\b\b\b\b\b\b\b\b\b\b\b\b\b\b\b\b\b\b\b\b\b\b\b\b\b\b\b\b\b\b\b\b\b\b\b\b\b\b\b\b\b\b\r974/974 [==============================] - 749s 759ms/step - loss: 0.7269 - accuracy: 0.7072 - val_loss: 0.4169 - val_accuracy: 0.8412 - lr: 1.0000e-04\n",
            "Epoch 2/6\n",
            "975/974 [==============================] - ETA: 0s - loss: 0.4222 - accuracy: 0.8425"
          ]
        },
        {
          "output_type": "stream",
          "name": "stderr",
          "text": [
            "WARNING:tensorflow:Can save best model only with acc available, skipping.\n"
          ]
        },
        {
          "output_type": "stream",
          "name": "stdout",
          "text": [
            "\b\b\b\b\b\b\b\b\b\b\b\b\b\b\b\b\b\b\b\b\b\b\b\b\b\b\b\b\b\b\b\b\b\b\b\b\b\b\b\b\b\b\b\b\b\b\b\b\b\b\b\b\b\b\b\b\b\b\b\b\b\b\b\b\b\b\b\b\b\b\b\b\b\b\b\b\b\b\b\b\b\b\b\b\r974/974 [==============================] - 821s 843ms/step - loss: 0.4222 - accuracy: 0.8425 - val_loss: 0.3306 - val_accuracy: 0.8739 - lr: 1.0000e-04\n",
            "Epoch 3/6\n",
            "975/974 [==============================] - ETA: 0s - loss: 0.3451 - accuracy: 0.8738"
          ]
        },
        {
          "output_type": "stream",
          "name": "stderr",
          "text": [
            "WARNING:tensorflow:Can save best model only with acc available, skipping.\n"
          ]
        },
        {
          "output_type": "stream",
          "name": "stdout",
          "text": [
            "\b\b\b\b\b\b\b\b\b\b\b\b\b\b\b\b\b\b\b\b\b\b\b\b\b\b\b\b\b\b\b\b\b\b\b\b\b\b\b\b\b\b\b\b\b\b\b\b\b\b\b\b\b\b\b\b\b\b\b\b\b\b\b\b\b\b\b\b\b\b\b\b\b\b\b\b\b\b\b\b\b\b\b\b\r974/974 [==============================] - 818s 840ms/step - loss: 0.3451 - accuracy: 0.8738 - val_loss: 0.2972 - val_accuracy: 0.8890 - lr: 1.0000e-04\n",
            "Epoch 4/6\n",
            "975/974 [==============================] - ETA: 0s - loss: 0.2970 - accuracy: 0.8919"
          ]
        },
        {
          "output_type": "stream",
          "name": "stderr",
          "text": [
            "WARNING:tensorflow:Can save best model only with acc available, skipping.\n"
          ]
        },
        {
          "output_type": "stream",
          "name": "stdout",
          "text": [
            "\b\b\b\b\b\b\b\b\b\b\b\b\b\b\b\b\b\b\b\b\b\b\b\b\b\b\b\b\b\b\b\b\b\b\b\b\b\b\b\b\b\b\b\b\b\b\b\b\b\b\b\b\b\b\b\b\b\b\b\b\b\b\b\b\b\b\b\b\b\b\b\b\b\b\b\b\b\b\b\b\b\b\b\b\r974/974 [==============================] - 819s 841ms/step - loss: 0.2970 - accuracy: 0.8919 - val_loss: 0.3275 - val_accuracy: 0.8846 - lr: 1.0000e-04\n",
            "Epoch 5/6\n",
            "975/974 [==============================] - ETA: 0s - loss: 0.2635 - accuracy: 0.9047"
          ]
        },
        {
          "output_type": "stream",
          "name": "stderr",
          "text": [
            "WARNING:tensorflow:Can save best model only with acc available, skipping.\n"
          ]
        },
        {
          "output_type": "stream",
          "name": "stdout",
          "text": [
            "\b\b\b\b\b\b\b\b\b\b\b\b\b\b\b\b\b\b\b\b\b\b\b\b\b\b\b\b\b\b\b\b\b\b\b\b\b\b\b\b\b\b\b\b\b\b\b\b\b\b\b\b\b\b\b\b\b\b\b\b\b\b\b\b\b\b\b\b\b\b\b\b\b\b\b\b\b\b\b\b\b\b\b\b\r974/974 [==============================] - 816s 838ms/step - loss: 0.2635 - accuracy: 0.9047 - val_loss: 0.2649 - val_accuracy: 0.9020 - lr: 1.0000e-04\n",
            "Epoch 6/6\n",
            "975/974 [==============================] - ETA: 0s - loss: 0.2302 - accuracy: 0.9185"
          ]
        },
        {
          "output_type": "stream",
          "name": "stderr",
          "text": [
            "WARNING:tensorflow:Can save best model only with acc available, skipping.\n"
          ]
        },
        {
          "output_type": "stream",
          "name": "stdout",
          "text": [
            "\b\b\b\b\b\b\b\b\b\b\b\b\b\b\b\b\b\b\b\b\b\b\b\b\b\b\b\b\b\b\b\b\b\b\b\b\b\b\b\b\b\b\b\b\b\b\b\b\b\b\b\b\b\b\b\b\b\b\b\b\b\b\b\b\b\b\b\b\b\b\b\b\b\b\b\b\b\b\b\b\b\b\b\b\r974/974 [==============================] - 814s 835ms/step - loss: 0.2302 - accuracy: 0.9185 - val_loss: 0.2427 - val_accuracy: 0.9178 - lr: 1.0000e-04\n"
          ]
        }
      ],
      "source": [
        "\n",
        "\n",
        "from keras.optimizers import Adam\n",
        "from keras import applications\n",
        "import tensorflow as tf\n",
        "from keras.preprocessing.image import ImageDataGenerator\n",
        "from keras import optimizers\n",
        "from keras.models import Sequential, Model \n",
        "from keras.layers import Dropout, Flatten, Dense, GlobalAveragePooling2D\n",
        "from keras import backend as k \n",
        "from keras.callbacks import ModelCheckpoint, LearningRateScheduler, TensorBoard, EarlyStopping\n",
        "import keras\n",
        "img_width, img_height = 256,256\n",
        "batch_size = 32\n",
        "epochs = 50\n",
        "\n",
        "model = tf.keras.applications.VGG19(weights = \"imagenet\", include_top=False, input_shape = (img_width, img_height, 3),)\n",
        "#model = tf.keras.applications.inception_v3.InceptionV3(weights = \"imagenet\", include_top=False, input_shape = (img_width, img_height, 3),)\n",
        "\n",
        "from keras.callbacks import ReduceLROnPlateau\n",
        "\n",
        "reduce_lr = ReduceLROnPlateau(monitor='val_loss', factor=0.2,\n",
        "                              patience=2, min_lr=0.000001)\n",
        "mcp_save = ModelCheckpoint('model_3.hdf5', save_best_only=True, monitor='acc', mode='max')\n",
        "\n",
        "from keras.layers import GlobalAveragePooling2D\n",
        "\n",
        "for layer in model.layers:\n",
        "  layer.trainable=True\n",
        "\n",
        "#Adding custom Layers \n",
        "\n",
        "x = model.output\n",
        "\n",
        "x = Flatten()(x)\n",
        "x = Dense(256, activation=\"relu\")(x)\n",
        "x = Dropout(0.5)(x)\n",
        "x = Dense(128, activation=\"relu\")(x)\n",
        "predictions = Dense(4, activation=\"softmax\")(x)\n",
        "\n",
        "# creating the final model \n",
        "model_final = Model(inputs = model.input, outputs = predictions)\n",
        "\n",
        "# compile the model \n",
        "model_final.compile(loss = \"categorical_crossentropy\", optimizer =Adam(lr=0.0001), metrics=[\"accuracy\"])\n",
        "\n",
        "model_final.summary()\n",
        "\n",
        "history=model_final.fit(\n",
        "train_images,train_labels,steps_per_epoch =31175/32, epochs=6,validation_data=(val_images,val_labels), validation_steps=9983/32,\n",
        "callbacks=[reduce_lr,mcp_save])\n",
        "\n",
        "\n"
      ]
    },
    {
      "cell_type": "code",
      "execution_count": null,
      "metadata": {
        "colab": {
          "base_uri": "https://localhost:8080/",
          "height": 279
        },
        "id": "g0JOxbek9ygA",
        "outputId": "a7ca1432-48f5-4fa6-8fdf-ca8cb531e1ac"
      },
      "outputs": [
        {
          "output_type": "display_data",
          "data": {
            "text/plain": [
              "<Figure size 432x288 with 1 Axes>"
            ],
            "image/png": "[encoded data removed]"
          },
          "metadata": {
            "needs_background": "light"
          }
        }
      ],
      "source": [
        "\n",
        "from tensorflow import keras\n",
        "\n",
        "def plt_dynamic(x,ty,colors=['b']):\n",
        "    ax.plot(x, ty, 'r', label=\"Training Accuracy\")\n",
        "    plt.legend()\n",
        "    plt.grid()\n",
        "    fig.canvas.draw()\n",
        "\n",
        "def plt_dynamics(x,ty,colors=['b']):\n",
        "    ax.plot(x, ty, 'b', label=\"Validation Accuracy\")\n",
        "    plt.legend()\n",
        "    plt.grid()\n",
        "    fig.canvas.draw()\n",
        "\n",
        "\n",
        "fig,ax = plt.subplots(1,1)\n",
        "ax.set_xlabel('epochs') ; ax.set_ylabel('Accuracies')    \n",
        "# list of epoch numbers\n",
        "x = list(range(1,6+1))\n",
        "\n",
        "ty = history.history['accuracy']\n",
        "ty1=history.history['val_accuracy']\n",
        "plt_dynamic(x,ty)\n",
        "plt_dynamics(x,ty1)\n",
        "\n",
        "\n",
        "\n",
        "\n"
      ]
    },
    {
      "cell_type": "code",
      "execution_count": null,
      "metadata": {
        "colab": {
          "base_uri": "https://localhost:8080/",
          "height": 284
        },
        "id": "dZ7LRpOwZbVN",
        "outputId": "e8c726f2-be95-4b48-f301-e8b7c0a1001c"
      },
      "outputs": [
        {
          "data": {
            "image/png": "[encoded data removed]",
            "text/plain": [
              "<Figure size 432x288 with 1 Axes>"
            ]
          },
          "metadata": {
            "image/png": {
              "height": 267,
              "width": 392
            }
          },
          "output_type": "display_data"
        }
      ],
      "source": [
        "import seaborn as sns\n",
        "\n",
        "def plt_dynamic(x,ty,colors=['b']):\n",
        "    ax.plot(x, ty, 'r', label=\"Train Loss\")\n",
        "    plt.legend()\n",
        "    plt.grid()\n",
        "    fig.canvas.draw()\n",
        "\n",
        "def plt_dynamics(x,ty,colors=['b']):\n",
        "    ax.plot(x, ty, 'b', label=\"Validation Loss\")\n",
        "    plt.legend()\n",
        "    plt.grid()\n",
        "    fig.canvas.draw()\n",
        "\n",
        "%matplotlib inline\n",
        "sns.set_context('notebook')\n",
        "%config InlineBackend.figure_format = 'retina'\n",
        "\n",
        "\n",
        "fig,ax = plt.subplots(1,1)\n",
        "ax.set_xlabel('epochs') ; ax.set_ylabel('Categorical Crossentropy Loss')    \n",
        "# list of epoch numbers\n",
        "x = list(range(1,6+1))\n",
        "\n",
        "ty = history.history['loss']\n",
        "ty1=history.history['val_loss']\n",
        "plt_dynamic(x,ty)\n",
        "plt_dynamics(x,ty1)"
      ]
    },
    {
      "cell_type": "code",
      "execution_count": null,
      "metadata": {
        "id": "l_5mWr0lmen6"
      },
      "outputs": [],
      "source": [
        "from keras.optimizers import Adam\n",
        "from keras import applications\n",
        "from keras.preprocessing.image import ImageDataGenerator\n",
        "from keras import optimizers\n",
        "from keras.models import Sequential, Model \n",
        "from keras.layers import Dropout, Flatten, Dense, GlobalAveragePooling2D\n",
        "from keras import backend as k \n",
        "from keras.callbacks import ModelCheckpoint, LearningRateScheduler, TensorBoard, EarlyStopping\n",
        "import keras\n",
        "img_width, img_height = 256,256\n",
        "batch_size = 32\n",
        "epochs = 50\n",
        "\n",
        "#model = tf.keras.applications.VGG19(weights = \"imagenet\", include_top=False, input_shape = (img_width, img_height, 3),)\n",
        "model = tf.keras.applications.resnet_v2.ResNet50V2(weights = \"imagenet\", include_top=False, input_shape = (img_width, img_height, 3),)\n",
        "\n",
        "from keras.callbacks import ReduceLROnPlateau\n",
        "\n",
        "reduce_lr = ReduceLROnPlateau(monitor='val_loss', factor=0.2,\n",
        "                              patience=2, min_lr=0.000001)\n",
        "mcp_save = ModelCheckpoint('model_3.hdf5', save_best_only=True, monitor='acc', mode='max')\n",
        "\n",
        "from keras.layers import GlobalAveragePooling2D\n",
        "\n",
        "for layer in model.layers:\n",
        "  layer.trainable=True\n",
        "\n",
        "#Adding custom Layers \n",
        "\n",
        "x = model.output\n",
        "\n",
        "x = Flatten()(x)\n",
        "x = Dense(256, activation=\"relu\")(x)\n",
        "x = Dropout(0.5)(x)\n",
        "x = Dense(128, activation=\"relu\")(x)\n",
        "predictions = Dense(4, activation=\"softmax\")(x)\n",
        "\n",
        "# creating the final model \n",
        "model_final1 = Model(inputs = model.input, outputs = predictions)\n",
        "\n",
        "# compile the model \n",
        "model_final1.compile(loss = \"categorical_crossentropy\", optimizer =Adam(lr=0.0001), metrics=[\"accuracy\"])\n",
        "\n",
        "model_final1.summary()\n",
        "\n",
        "history=model_final1.fit(\n",
        "train_images,train_labels,steps_per_epoch =31172/32, epochs=6,validation_data=(val_images,val_labels), validation_steps=9983/32,\n",
        "callbacks=[reduce_lr,mcp_save])\n",
        "\n"
      ]
    },
    {
      "cell_type": "code",
      "execution_count": null,
      "metadata": {
        "id": "lw0-sp9_qkhk"
      },
      "outputs": [],
      "source": [
        "\n",
        "from tensorflow import keras\n",
        "\n",
        "def plt_dynamic(x,ty,colors=['b']):\n",
        "    ax.plot(x, ty, 'r', label=\"Training Accuracy\")\n",
        "    plt.legend()\n",
        "    plt.grid()\n",
        "    fig.canvas.draw()\n",
        "\n",
        "def plt_dynamics(x,ty,colors=['b']):\n",
        "    ax.plot(x, ty, 'b', label=\"Validation Accuracy\")\n",
        "    plt.legend()\n",
        "    plt.grid()\n",
        "    fig.canvas.draw()\n",
        "\n",
        "\n",
        "fig,ax = plt.subplots(1,1)\n",
        "ax.set_xlabel('epochs') ; ax.set_ylabel('Accuracies')    \n",
        "# list of epoch numbers\n",
        "x = list(range(1,6+1))\n",
        "\n",
        "ty = history.history['accuracy']\n",
        "ty1=history.history['val_accuracy']\n",
        "plt_dynamic(x,ty)\n",
        "plt_dynamics(x,ty1)\n",
        "\n",
        "\n",
        "\n",
        "\n"
      ]
    },
    {
      "cell_type": "code",
      "execution_count": null,
      "metadata": {
        "id": "GhgJdXZmqm5o"
      },
      "outputs": [],
      "source": [
        "import seaborn as sns\n",
        "\n",
        "def plt_dynamic(x,ty,colors=['b']):\n",
        "    ax.plot(x, ty, 'r', label=\"Train Loss\")\n",
        "    plt.legend()\n",
        "    plt.grid()\n",
        "    fig.canvas.draw()\n",
        "\n",
        "def plt_dynamics(x,ty,colors=['b']):\n",
        "    ax.plot(x, ty, 'b', label=\"Validation Loss\")\n",
        "    plt.legend()\n",
        "    plt.grid()\n",
        "    fig.canvas.draw()\n",
        "\n",
        "%matplotlib inline\n",
        "sns.set_context('notebook')\n",
        "%config InlineBackend.figure_format = 'retina'\n",
        "\n",
        "\n",
        "fig,ax = plt.subplots(1,1)\n",
        "ax.set_xlabel('epochs') ; ax.set_ylabel('Categorical Crossentropy Loss')    \n",
        "# list of epoch numbers\n",
        "x = list(range(1,6+1))\n",
        "\n",
        "ty = history.history['loss']\n",
        "ty1=history.history['val_loss']\n",
        "plt_dynamic(x,ty)\n",
        "plt_dynamics(x,ty1)"
      ]
    },
    {
      "cell_type": "code",
      "execution_count": null,
      "metadata": {
        "id": "OvX9oefDoZ9I"
      },
      "outputs": [],
      "source": [
        "from keras.optimizers import Adam\n",
        "from keras import applications\n",
        "from keras.preprocessing.image import ImageDataGenerator\n",
        "from keras import optimizers\n",
        "from keras.models import Sequential, Model \n",
        "from keras.layers import Dropout, Flatten, Dense, GlobalAveragePooling2D\n",
        "from keras import backend as k \n",
        "from keras.callbacks import ModelCheckpoint, LearningRateScheduler, TensorBoard, EarlyStopping\n",
        "import keras\n",
        "img_width, img_height = 256,256\n",
        "batch_size = 32\n",
        "epochs = 50\n",
        "\n",
        "model = tf.keras.applications.VGG16(weights = \"imagenet\", include_top=False, input_shape = (img_width, img_height, 3),)\n",
        "#model = tf.keras.applications.resnet_v2.ResNet50V2(weights = \"imagenet\", include_top=False, input_shape = (img_width, img_height, 3),)\n",
        "\n",
        "from keras.callbacks import ReduceLROnPlateau\n",
        "\n",
        "reduce_lr = ReduceLROnPlateau(monitor='val_loss', factor=0.2,\n",
        "                              patience=2, min_lr=0.000001)\n",
        "mcp_save = ModelCheckpoint('model_3.hdf5', save_best_only=True, monitor='acc', mode='max')\n",
        "\n",
        "from keras.layers import GlobalAveragePooling2D\n",
        "\n",
        "for layer in model.layers:\n",
        "  layer.trainable=True\n",
        "\n",
        "#Adding custom Layers \n",
        "\n",
        "x = model.output\n",
        "\n",
        "x = Flatten()(x)\n",
        "x = Dense(256, activation=\"relu\")(x)\n",
        "x = Dropout(0.5)(x)\n",
        "x = Dense(128, activation=\"relu\")(x)\n",
        "predictions = Dense(4, activation=\"softmax\")(x)\n",
        "\n",
        "# creating the final model \n",
        "model_final2 = Model(inputs = model.input, outputs = predictions)\n",
        "\n",
        "# compile the model \n",
        "model_final2.compile(loss = \"categorical_crossentropy\", optimizer =Adam(lr=0.0001), metrics=[\"accuracy\"])\n",
        "\n",
        "model_final2.summary()\n",
        "\n",
        "history=model_final1.fit(\n",
        "train_images,train_labels,steps_per_epoch =31172/32, epochs=15,validation_data=(val_images,val_labels), validation_steps=9983/32,\n",
        "callbacks=[reduce_lr,mcp_save])\n",
        "\n"
      ]
    },
    {
      "cell_type": "code",
      "execution_count": null,
      "metadata": {
        "id": "H4HyNkehqo1J"
      },
      "outputs": [],
      "source": [
        "\n",
        "from tensorflow import keras\n",
        "\n",
        "def plt_dynamic(x,ty,colors=['b']):\n",
        "    ax.plot(x, ty, 'r', label=\"Training Accuracy\")\n",
        "    plt.legend()\n",
        "    plt.grid()\n",
        "    fig.canvas.draw()\n",
        "\n",
        "def plt_dynamics(x,ty,colors=['b']):\n",
        "    ax.plot(x, ty, 'b', label=\"Validation Accuracy\")\n",
        "    plt.legend()\n",
        "    plt.grid()\n",
        "    fig.canvas.draw()\n",
        "\n",
        "\n",
        "fig,ax = plt.subplots(1,1)\n",
        "ax.set_xlabel('epochs') ; ax.set_ylabel('Accuracies')    \n",
        "# list of epoch numbers\n",
        "x = list(range(1,6+1))\n",
        "\n",
        "ty = history.history['accuracy']\n",
        "ty1=history.history['val_accuracy']\n",
        "plt_dynamic(x,ty)\n",
        "plt_dynamics(x,ty1)\n",
        "\n",
        "\n",
        "\n",
        "\n"
      ]
    },
    {
      "cell_type": "code",
      "execution_count": null,
      "metadata": {
        "id": "AdfTOZgLqpd9"
      },
      "outputs": [],
      "source": [
        "import seaborn as sns\n",
        "\n",
        "def plt_dynamic(x,ty,colors=['b']):\n",
        "    ax.plot(x, ty, 'r', label=\"Train Loss\")\n",
        "    plt.legend()\n",
        "    plt.grid()\n",
        "    fig.canvas.draw()\n",
        "\n",
        "def plt_dynamics(x,ty,colors=['b']):\n",
        "    ax.plot(x, ty, 'b', label=\"Validation Loss\")\n",
        "    plt.legend()\n",
        "    plt.grid()\n",
        "    fig.canvas.draw()\n",
        "\n",
        "%matplotlib inline\n",
        "sns.set_context('notebook')\n",
        "%config InlineBackend.figure_format = 'retina'\n",
        "\n",
        "\n",
        "fig,ax = plt.subplots(1,1)\n",
        "ax.set_xlabel('epochs') ; ax.set_ylabel('Categorical Crossentropy Loss')    \n",
        "# list of epoch numbers\n",
        "x = list(range(1,6+1))\n",
        "\n",
        "ty = history.history['loss']\n",
        "ty1=history.history['val_loss']\n",
        "plt_dynamic(x,ty)\n",
        "plt_dynamics(x,ty1)"
      ]
    },
    {
      "cell_type": "code",
      "execution_count": null,
      "metadata": {
        "id": "_WxSq1jDeMft"
      },
      "outputs": [],
      "source": [
        "models=['VGG19','InceptionV3','VGG16','ResNet50']"
      ]
    },
    {
      "cell_type": "code",
      "execution_count": null,
      "metadata": {
        "id": "vSJ-0b5PPUnU"
      },
      "outputs": [],
      "source": []
    },
    {
      "cell_type": "code",
      "execution_count": null,
      "metadata": {
        "id": "oWfbHlCFAOuS"
      },
      "outputs": [],
      "source": [
        "from tensorflow import keras\n",
        "model_final.save('model_inceptionV3.h5')\n"
      ]
    },
    {
      "cell_type": "code",
      "execution_count": null,
      "metadata": {
        "id": "8zMI9EPRmhX2"
      },
      "outputs": [],
      "source": [
        "from tensorflow import keras\n",
        "model_final1.save('model_resnet50.h5')"
      ]
    },
    {
      "cell_type": "code",
      "execution_count": null,
      "metadata": {
        "id": "8wuruy0pnk8H"
      },
      "outputs": [],
      "source": [
        "from tensorflow import keras\n",
        "model_final2.save('model_vgg16.h5')"
      ]
    },
    {
      "cell_type": "code",
      "execution_count": null,
      "metadata": {
        "id": "71OINTXrA-D4"
      },
      "outputs": [],
      "source": [
        "m = keras.models.load_model('model_inceptionV3.h5')"
      ]
    },
    {
      "cell_type": "code",
      "execution_count": null,
      "metadata": {
        "id": "dMgdziZVmpKq"
      },
      "outputs": [],
      "source": [
        "m1= keras.models.load_model('model_resnet50.h5')"
      ]
    },
    {
      "cell_type": "code",
      "execution_count": null,
      "metadata": {
        "id": "wfVvSC87ngwN"
      },
      "outputs": [],
      "source": [
        "m2= keras.models.load_model('model_vgg16.h5')"
      ]
    },
    {
      "cell_type": "code",
      "execution_count": null,
      "metadata": {
        "id": "5JzIrWEvqsEX"
      },
      "outputs": [],
      "source": []
    },
    {
      "cell_type": "code",
      "execution_count": null,
      "metadata": {
        "colab": {
          "base_uri": "https://localhost:8080/"
        },
        "id": "9BYDLRIsd8wV",
        "outputId": "848831f9-c5c0-4145-9106-0c206b532971"
      },
      "outputs": [
        {
          "name": "stdout",
          "output_type": "stream",
          "text": [
            "The accuracy for model-Pretrained VGG 19 initiazlied with image net: 90.31496047973633 %\n"
          ]
        }
      ],
      "source": [
        "\n",
        "score=model_final.evaluate(test_images,test_labels,batch_size=32,workers=1, use_multiprocessing=True, verbose=0)\n",
        "accuraciest.append(score)\n",
        "#print(score)\n",
        "print(\"The accuracy for model-Pretrained VGG 19 initiazlied with image net:\",score[1]*100,\"%\")\n"
      ]
    },
    {
      "cell_type": "code",
      "execution_count": null,
      "metadata": {
        "id": "h4js_Ooim0uw"
      },
      "outputs": [],
      "source": [
        "score=model_final1.evaluate(test_images,test_labels,batch_size=32,workers=1, use_multiprocessing=True, verbose=0)\n",
        "accuraciest.append(score)\n",
        "#print(score)\n",
        "print(\"The accuracy for model-Pretrained resnet50 initiazlied with image net:\",score[1]*100,\"%\")"
      ]
    },
    {
      "cell_type": "code",
      "execution_count": null,
      "metadata": {
        "id": "FON-l5Mtna4A"
      },
      "outputs": [],
      "source": [
        "score=model_final2.evaluate(test_images,test_labels,batch_size=32,workers=1, use_multiprocessing=True, verbose=0)\n",
        "accuraciest.append(score)\n",
        "#print(score)\n",
        "print(\"The accuracy for model-Pretrained vgg16 initiazlied with image net:\",score[1]*100,\"%\")"
      ]
    },
    {
      "cell_type": "code",
      "source": [],
      "metadata": {
        "id": "OO2CGV4PfGm4"
      },
      "execution_count": null,
      "outputs": []
    },
    {
      "cell_type": "code",
      "source": [
        "#Prediction on test data\n",
        "import cv2\n",
        "import tensorflow as tf\n",
        "from tensorflow.keras.preprocessing import image\n",
        "import matplotlib.pyplot as plt\n",
        "plt.figure(figsize =(16, 16))\n",
        "img_path = \"test_fom2.tif\"\n",
        "img = cv2.imread(img_path)\n",
        "#img = cv2.cvtColor(image, cv2.COLOR_BGR2GRAY)\n",
        "img = cv2.resize(img, (512, 512))\n",
        "print(img.shape)\n",
        "plt.imshow(img)\n",
        "plt.show()\n",
        "from sklearn import metrics\n",
        "import numpy as np\n",
        "import seaborn as sn\n",
        "\n",
        "\n",
        "\n",
        "#Predictions on Test images passed as batch\n",
        "Y_pred = m.predict(test_images)      \n",
        "val_preds = np.argmax(Y_pred, axis=1)\n",
        "y_test = np.argmax(test_labels, axis = 1)\n",
        "\n",
        "from sklearn.metrics import accuracy_score,recall_score, precision_score,classification_report\n",
        "print('Accuracy Score is',accuracy_score(y_test, val_preds))\n",
        "accuracy.append(accuracy_score(y_test, val_preds))\n",
        "print(recall_score(y_test, val_preds, average='weighted'))\n",
        "print( precision_score(y_test, val_preds, average='weighted'))\n",
        "recalls.append(recall_score(y_test, val_preds, average='weighted'))\n",
        "precision.append( precision_score(y_test, val_preds, average='weighted'))\n",
        "print(classification_report(y_test, val_preds))\n",
        "#zipped = list(zip(models, accuracy, recalls,precision))\n",
        "#df = pd.DataFrame(zipped, columns=['Models', 'Testing Accuracies', 'Recalls','Precision'])\n",
        "#c=pd.DataFrame()\n",
        "\n",
        "classes = list(range(4))\n",
        "class_names=['form','invoice','letter','resume']\n",
        "j=tf.math.confusion_matrix(val_preds,y_test)\n",
        "tot=sum(j)\n",
        "print(tot)\n",
        "res = tf.math.confusion_matrix(val_preds,y_test).numpy()\n",
        "cm = pd.DataFrame(res,\n",
        "                     index = classes, \n",
        "                     columns = classes)\n",
        "\n",
        "import seaborn as sns\n",
        "figure = plt.figure(figsize=(8, 8))\n",
        "sns.heatmap(cm, annot=True,fmt=\"d\",  xticklabels=class_names, yticklabels=class_names, cmap=plt.cm.Blues)\n",
        "plt.ylabel('True label')\n",
        "plt.xlabel('Predicted label')\n",
        "plt.show()\n",
        "     \n",
        "    \n",
        "          \n",
        "\n",
        "'''count=0\n",
        "for i in range(len(val_trues)):\n",
        "  if(val_preds[i] == val_trues[i]):\n",
        "    print(\"The predicted class is : \" , val_preds[i])\n",
        "    print(\"The real class is : \" , val_trues[i])\n",
        "    count=count+1'''\n",
        "\n",
        "\n",
        "\n",
        "#print('Accuracy score : %.3f' % metrics.accuracy_score(val_trues, val_preds))\n",
        "#from sklearn.metrics import classification_report\n",
        "#print(classification_report(val_trues, val_preds))\n",
        "\n",
        "\n",
        "#Prediction on single image\n",
        "import tensorflow\n",
        "import keras\n",
        "from keras.applications.vgg19 import preprocess_input, decode_predictions\n",
        "img =image.load_img(img_path, target_size=(256, 256))\n",
        "x = image.img_to_array(img)\n",
        "x = np.expand_dims(x, axis=0)\n",
        "x = preprocess_input(x)\n",
        "preds=m.predict(x)\n",
        "# create a list containing the class labels\n",
        "class_labels = ['form','invoice','letter','resume']\n",
        "# find the index of the class with maximum score\n",
        "pred = np.argmax(preds, axis=-1)\n",
        "# print the label of the class with maximum score\n",
        "print('Predicted class is ',class_labels[pred[0]])\n",
        "\n",
        "\n",
        "#confusion_mtx = [val_trues, val_preds]\n",
        "#print(confusion_mtx)\n",
        "#img = tf.keras.utils.load_img('test_invoice.tif', target_size=(256, 256))\n",
        "#print(img.shape)\n",
        "#img_array = tf.keras.utils.img_to_array(img)\n",
        "\n",
        "#prediction = model_final.predict(img_array)\n",
        "#print(\"predicted label for test image\",np.argmax(prediction,axis=1))\n"
      ],
      "metadata": {
        "id": "PLthU1F_Ik9h"
      },
      "execution_count": null,
      "outputs": []
    },
    {
      "cell_type": "code",
      "execution_count": null,
      "metadata": {
        "id": "zAMH4yajnDpV"
      },
      "outputs": [],
      "source": [
        "#Prediction on test data\n",
        "import cv2\n",
        "import tensorflow as tf\n",
        "from tensorflow.keras.preprocessing import image\n",
        "import matplotlib.pyplot as plt\n",
        "plt.figure(figsize =(16, 16))\n",
        "img_path = \"test_letter.tif\"\n",
        "img = cv2.imread(img_path)\n",
        "#img = cv2.cvtColor(image, cv2.COLOR_BGR2GRAY)\n",
        "#img = cv2.resize(img, (256, 256))\n",
        "print(img.shape)\n",
        "plt.imshow(img)\n",
        "plt.show()\n",
        "from sklearn import metrics\n",
        "import numpy as np\n",
        "import seaborn as sn\n",
        "\n",
        "\n",
        "\n",
        "#Predictions on Test images passed as batch\n",
        "Y_pred = m1.predict(test_images)      \n",
        "val_preds = np.argmax(Y_pred, axis=1)\n",
        "y_test = np.argmax(test_labels, axis = 1)\n",
        "\n",
        "from sklearn.metrics import accuracy_score,recall_score, precision_score,classification_report\n",
        "print('Accuracy Score is',accuracy_score(y_test, val_preds))\n",
        "accuracy.append(accuracy_score(y_test, val_preds))\n",
        "print(recall_score(y_test, val_preds, average='weighted'))\n",
        "print( precision_score(y_test, val_preds, average='weighted'))\n",
        "recalls.append(recall_score(y_test, val_preds, average='weighted'))\n",
        "precision.append( precision_score(y_test, val_preds, average='weighted'))\n",
        "print(classification_report(y_test, val_preds))\n",
        "#zipped = list(zip(models, accuracy, recalls,precision))\n",
        "#df = pd.DataFrame(zipped, columns=['Models', 'Testing Accuracies', 'Recalls','Precision'])\n",
        "#c=pd.DataFrame()\n",
        "\n",
        "classes = list(range(4))\n",
        "class_names=['form','invoice','letter','resume']\n",
        "j=tf.math.confusion_matrix(val_preds,y_test)\n",
        "tot=sum(j)\n",
        "print(tot)\n",
        "res = tf.math.confusion_matrix(val_preds,y_test).numpy()\n",
        "cm = pd.DataFrame(res,\n",
        "                     index = classes, \n",
        "                     columns = classes)\n",
        "\n",
        "import seaborn as sns\n",
        "figure = plt.figure(figsize=(8, 8))\n",
        "sns.heatmap(cm, annot=True,fmt=\"d\",  xticklabels=class_names, yticklabels=class_names, cmap=plt.cm.Blues)\n",
        "plt.ylabel('True label')\n",
        "plt.xlabel('Predicted label')\n",
        "plt.show()\n",
        "     \n",
        "    \n",
        "          \n",
        "\n",
        "'''count=0\n",
        "for i in range(len(val_trues)):\n",
        "  if(val_preds[i] == val_trues[i]):\n",
        "    print(\"The predicted class is : \" , val_preds[i])\n",
        "    print(\"The real class is : \" , val_trues[i])\n",
        "    count=count+1'''\n",
        "\n",
        "\n",
        "\n",
        "#print('Accuracy score : %.3f' % metrics.accuracy_score(val_trues, val_preds))\n",
        "#from sklearn.metrics import classification_report\n",
        "#print(classification_report(val_trues, val_preds))\n",
        "\n",
        "\n",
        "#Prediction on single image\n",
        "import tensorflow\n",
        "import keras\n",
        "from keras.applications.vgg19 import preprocess_input, decode_predictions\n",
        "img =image.load_img(img_path, target_size=(256, 256))\n",
        "x = image.img_to_array(img)\n",
        "x = np.expand_dims(x, axis=0)\n",
        "x = preprocess_input(x)\n",
        "preds=m.predict(x)\n",
        "# create a list containing the class labels\n",
        "class_labels = ['form','invoice','letter','resume']\n",
        "# find the index of the class with maximum score\n",
        "pred = np.argmax(preds, axis=-1)\n",
        "# print the label of the class with maximum score\n",
        "print(class_labels[pred[0]])\n",
        "\n",
        "\n",
        "#confusion_mtx = [val_trues, val_preds]\n",
        "#print(confusion_mtx)\n",
        "#img = tf.keras.utils.load_img('test_invoice.tif', target_size=(256, 256))\n",
        "#print(img.shape)\n",
        "#img_array = tf.keras.utils.img_to_array(img)\n",
        "\n",
        "#prediction = model_final.predict(img_array)\n",
        "#print(\"predicted label for test image\",np.argmax(prediction,axis=1))\n"
      ]
    },
    {
      "cell_type": "code",
      "execution_count": null,
      "metadata": {
        "id": "-1XFk2Xynpzl"
      },
      "outputs": [],
      "source": [
        "#Prediction on test data\n",
        "import cv2\n",
        "import tensorflow as tf\n",
        "from tensorflow.keras.preprocessing import image\n",
        "import matplotlib.pyplot as plt\n",
        "plt.figure(figsize =(16, 16))\n",
        "img_path = \"test_letter.tif\"\n",
        "img = cv2.imread(img_path)\n",
        "#img = cv2.cvtColor(image, cv2.COLOR_BGR2GRAY)\n",
        "#img = cv2.resize(img, (256, 256))\n",
        "print(img.shape)\n",
        "plt.imshow(img)\n",
        "plt.show()\n",
        "from sklearn import metrics\n",
        "import numpy as np\n",
        "import seaborn as sn\n",
        "\n",
        "\n",
        "\n",
        "#Predictions on Test images passed as batch\n",
        "Y_pred = m2.predict(test_images)      \n",
        "val_preds = np.argmax(Y_pred, axis=1)\n",
        "y_test = np.argmax(test_labels, axis = 1)\n",
        "\n",
        "from sklearn.metrics import accuracy_score,recall_score, precision_score,classification_report\n",
        "print('Accuracy Score is',accuracy_score(y_test, val_preds))\n",
        "accuracy.append(accuracy_score(y_test, val_preds))\n",
        "print(recall_score(y_test, val_preds, average='weighted'))\n",
        "print( precision_score(y_test, val_preds, average='weighted'))\n",
        "recalls.append(recall_score(y_test, val_preds, average='weighted'))\n",
        "precision.append( precision_score(y_test, val_preds, average='weighted'))\n",
        "print(classification_report(y_test, val_preds))\n",
        "#zipped = list(zip(models, accuracy, recalls,precision))\n",
        "#df = pd.DataFrame(zipped, columns=['Models', 'Testing Accuracies', 'Recalls','Precision'])\n",
        "#c=pd.DataFrame()\n",
        "\n",
        "classes = list(range(4))\n",
        "class_names=['form','invoice','letter','resume']\n",
        "j=tf.math.confusion_matrix(val_preds,y_test)\n",
        "tot=sum(j)\n",
        "print(tot)\n",
        "res = tf.math.confusion_matrix(val_preds,y_test).numpy()\n",
        "cm = pd.DataFrame(res,\n",
        "                     index = classes, \n",
        "                     columns = classes)\n",
        "\n",
        "import seaborn as sns\n",
        "figure = plt.figure(figsize=(8, 8))\n",
        "sns.heatmap(cm, annot=True,fmt=\"d\",  xticklabels=class_names, yticklabels=class_names, cmap=plt.cm.Blues)\n",
        "plt.ylabel('True label')\n",
        "plt.xlabel('Predicted label')\n",
        "plt.show()\n",
        "     \n",
        "    \n",
        "          \n",
        "\n",
        "'''count=0\n",
        "for i in range(len(val_trues)):\n",
        "  if(val_preds[i] == val_trues[i]):\n",
        "    print(\"The predicted class is : \" , val_preds[i])\n",
        "    print(\"The real class is : \" , val_trues[i])\n",
        "    count=count+1'''\n",
        "\n",
        "\n",
        "\n",
        "#print('Accuracy score : %.3f' % metrics.accuracy_score(val_trues, val_preds))\n",
        "#from sklearn.metrics import classification_report\n",
        "#print(classification_report(val_trues, val_preds))\n",
        "\n",
        "\n",
        "#Prediction on single image\n",
        "import tensorflow\n",
        "import keras\n",
        "from keras.applications.vgg19 import preprocess_input, decode_predictions\n",
        "img =image.load_img(img_path, target_size=(256, 256))\n",
        "x = image.img_to_array(img)\n",
        "x = np.expand_dims(x, axis=0)\n",
        "x = preprocess_input(x)\n",
        "preds=m.predict(x)\n",
        "# create a list containing the class labels\n",
        "class_labels = ['form','invoice','letter','resume']\n",
        "# find the index of the class with maximum score\n",
        "pred = np.argmax(preds, axis=-1)\n",
        "# print the label of the class with maximum score\n",
        "print(class_labels[pred[0]])\n",
        "\n"
      ]
    },
    {
      "cell_type": "code",
      "source": [],
      "metadata": {
        "id": "jqa1a0K4YYo5"
      },
      "execution_count": null,
      "outputs": []
    },
    {
      "cell_type": "code",
      "execution_count": null,
      "metadata": {
        "id": "mJSYG8IFC0pe"
      },
      "outputs": [],
      "source": [
        "import pandas as pd\n",
        "zipped = list(zip(models, accuracy, recalls,precision))\n",
        "df = pd.DataFrame(zipped, columns=['Models', 'Testing Accuracies', 'Recall','Precision'])\n",
        "df1=df.sort_values(by=['Testing Accuracies'],ascending=False,ignore_index=True)"
      ]
    },
    {
      "cell_type": "code",
      "execution_count": null,
      "metadata": {
        "colab": {
          "base_uri": "https://localhost:8080/",
          "height": 143
        },
        "id": "goQWBZvkC4ek",
        "outputId": "de8f2129-c69d-4121-a3eb-ff748169d90a"
      },
      "outputs": [
        {
          "output_type": "execute_result",
          "data": {
            "text/plain": [
              "        Models  Testing Accuracies  Recall  Precision\n",
              "0        VGG19              0.9432  0.9356     0.9034\n",
              "1  InceptionV3              0.9032  0.9011     0.8900\n",
              "2        VGG16              0.8832  0.8889     0.8960"
            ],
            "text/html": [
              "\n",
              "  <div id=\"df-157cb110-5b6a-4c9f-ae45-abe025119c37\">\n",
              "    <div class=\"colab-df-container\">\n",
              "      <div>\n",
              "<style scoped>\n",
              "    .dataframe tbody tr th:only-of-type {\n",
              "        vertical-align: middle;\n",
              "    }\n",
              "\n",
              "    .dataframe tbody tr th {\n",
              "        vertical-align: top;\n",
              "    }\n",
              "\n",
              "    .dataframe thead th {\n",
              "        text-align: right;\n",
              "    }\n",
              "</style>\n",
              "<table border=\"1\" class=\"dataframe\">\n",
              "  <thead>\n",
              "    <tr style=\"text-align: right;\">\n",
              "      <th></th>\n",
              "      <th>Models</th>\n",
              "      <th>Testing Accuracies</th>\n",
              "      <th>Recall</th>\n",
              "      <th>Precision</th>\n",
              "    </tr>\n",
              "  </thead>\n",
              "  <tbody>\n",
              "    <tr>\n",
              "      <th>0</th>\n",
              "      <td>VGG19</td>\n",
              "      <td>0.9432</td>\n",
              "      <td>0.9356</td>\n",
              "      <td>0.9034</td>\n",
              "    </tr>\n",
              "    <tr>\n",
              "      <th>1</th>\n",
              "      <td>InceptionV3</td>\n",
              "      <td>0.9032</td>\n",
              "      <td>0.9011</td>\n",
              "      <td>0.8900</td>\n",
              "    </tr>\n",
              "    <tr>\n",
              "      <th>2</th>\n",
              "      <td>VGG16</td>\n",
              "      <td>0.8832</td>\n",
              "      <td>0.8889</td>\n",
              "      <td>0.8960</td>\n",
              "    </tr>\n",
              "  </tbody>\n",
              "</table>\n",
              "</div>\n",
              "      <button class=\"colab-df-convert\" onclick=\"convertToInteractive('df-157cb110-5b6a-4c9f-ae45-abe025119c37')\"\n",
              "              title=\"Convert this dataframe to an interactive table.\"\n",
              "              style=\"display:none;\">\n",
              "        \n",
              "  <svg xmlns=\"http://www.w3.org/2000/svg\" height=\"24px\"viewBox=\"0 0 24 24\"\n",
              "       width=\"24px\">\n",
              "    <path d=\"M0 0h24v24H0V0z\" fill=\"none\"/>\n",
              "    <path d=\"M18.56 5.44l.94 2.06.94-2.06 2.06-.94-2.06-.94-.94-2.06-.94 2.06-2.06.94zm-11 1L8.5 8.5l.94-2.06 2.06-.94-2.06-.94L8.5 2.5l-.94 2.06-2.06.94zm10 10l.94 2.06.94-2.06 2.06-.94-2.06-.94-.94-2.06-.94 2.06-2.06.94z\"/><path d=\"M17.41 7.96l-1.37-1.37c-.4-.4-.92-.59-1.43-.59-.52 0-1.04.2-1.43.59L10.3 9.45l-7.72 7.72c-.78.78-.78 2.05 0 2.83L4 21.41c.39.39.9.59 1.41.59.51 0 1.02-.2 1.41-.59l7.78-7.78 2.81-2.81c.8-.78.8-2.07 0-2.86zM5.41 20L4 18.59l7.72-7.72 1.47 1.35L5.41 20z\"/>\n",
              "  </svg>\n",
              "      </button>\n",
              "      \n",
              "  <style>\n",
              "    .colab-df-container {\n",
              "      display:flex;\n",
              "      flex-wrap:wrap;\n",
              "      gap: 12px;\n",
              "    }\n",
              "\n",
              "    .colab-df-convert {\n",
              "      background-color: #E8F0FE;\n",
              "      border: none;\n",
              "      border-radius: 50%;\n",
              "      cursor: pointer;\n",
              "      display: none;\n",
              "      fill: #1967D2;\n",
              "      height: 32px;\n",
              "      padding: 0 0 0 0;\n",
              "      width: 32px;\n",
              "    }\n",
              "\n",
              "    .colab-df-convert:hover {\n",
              "      background-color: #E2EBFA;\n",
              "      box-shadow: 0px 1px 2px rgba(60, 64, 67, 0.3), 0px 1px 3px 1px rgba(60, 64, 67, 0.15);\n",
              "      fill: #174EA6;\n",
              "    }\n",
              "\n",
              "    [theme=dark] .colab-df-convert {\n",
              "      background-color: #3B4455;\n",
              "      fill: #D2E3FC;\n",
              "    }\n",
              "\n",
              "    [theme=dark] .colab-df-convert:hover {\n",
              "      background-color: #434B5C;\n",
              "      box-shadow: 0px 1px 3px 1px rgba(0, 0, 0, 0.15);\n",
              "      filter: drop-shadow(0px 1px 2px rgba(0, 0, 0, 0.3));\n",
              "      fill: #FFFFFF;\n",
              "    }\n",
              "  </style>\n",
              "\n",
              "      <script>\n",
              "        const buttonEl =\n",
              "          document.querySelector('#df-157cb110-5b6a-4c9f-ae45-abe025119c37 button.colab-df-convert');\n",
              "        buttonEl.style.display =\n",
              "          google.colab.kernel.accessAllowed ? 'block' : 'none';\n",
              "\n",
              "        async function convertToInteractive(key) {\n",
              "          const element = document.querySelector('#df-157cb110-5b6a-4c9f-ae45-abe025119c37');\n",
              "          const dataTable =\n",
              "            await google.colab.kernel.invokeFunction('convertToInteractive',\n",
              "                                                     [key], {});\n",
              "          if (!dataTable) return;\n",
              "\n",
              "          const docLinkHtml = 'Like what you see? Visit the ' +\n",
              "            '<a target=\"_blank\" href=https://colab.research.google.com/notebooks/data_table.ipynb>data table notebook</a>'\n",
              "            + ' to learn more about interactive tables.';\n",
              "          element.innerHTML = '';\n",
              "          dataTable['output_type'] = 'display_data';\n",
              "          await google.colab.output.renderOutput(dataTable, element);\n",
              "          const docLink = document.createElement('div');\n",
              "          docLink.innerHTML = docLinkHtml;\n",
              "          element.appendChild(docLink);\n",
              "        }\n",
              "      </script>\n",
              "    </div>\n",
              "  </div>\n",
              "  "
            ]
          },
          "metadata": {},
          "execution_count": 39
        }
      ],
      "source": [
        "df1"
      ]
    },
    {
      "cell_type": "markdown",
      "metadata": {
        "id": "QLMsgTgw9F5s"
      },
      "source": [
        "# New Section"
      ]
    }
  ],
  "metadata": {
    "accelerator": "GPU",
    "colab": {
      "collapsed_sections": [
        "QLMsgTgw9F5s"
      ],
      "machine_shape": "hm",
      "provenance": []
    },
    "gpuClass": "standard",
    "kernelspec": {
      "display_name": "Python 3",
      "name": "python3"
    },
    "language_info": {
      "name": "python"
    }
  },
  "nbformat": 4,
  "nbformat_minor": 0
}